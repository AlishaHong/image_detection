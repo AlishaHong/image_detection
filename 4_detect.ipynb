{
 "cells": [
  {
   "cell_type": "code",
   "execution_count": 1,
   "metadata": {},
   "outputs": [],
   "source": [
    "import os\n",
    "import ultralytics\n",
    "from ultralytics import YOLO"
   ]
  },
  {
   "cell_type": "code",
   "execution_count": 6,
   "metadata": {},
   "outputs": [
    {
     "name": "stdout",
     "output_type": "stream",
     "text": [
      "\n",
      "image 1/1 c:\\Users\\SBA\\repository\\image_detection\\iloveimg-converted\\IMG_1284.jpg: 640x480 1 hush, 40.2ms\n",
      "Speed: 2.0ms preprocess, 40.2ms inference, 0.0ms postprocess per image at shape (1, 3, 640, 480)\n",
      "\n",
      "image 1/1 c:\\Users\\SBA\\repository\\image_detection\\iloveimg-converted\\IMG_1285.jpg: 640x480 1 hush, 1 eclipse, 40.3ms\n",
      "Speed: 2.0ms preprocess, 40.3ms inference, 0.0ms postprocess per image at shape (1, 3, 640, 480)\n",
      "\n",
      "image 1/1 c:\\Users\\SBA\\repository\\image_detection\\iloveimg-converted\\IMG_1286.jpg: 640x480 1 hush, 1 eclipse, 41.9ms\n",
      "Speed: 3.0ms preprocess, 41.9ms inference, 0.0ms postprocess per image at shape (1, 3, 640, 480)\n",
      "\n",
      "image 1/1 c:\\Users\\SBA\\repository\\image_detection\\iloveimg-converted\\IMG_1287.jpg: 640x480 1 hush, 1 eclipse, 36.9ms\n",
      "Speed: 3.0ms preprocess, 36.9ms inference, 0.0ms postprocess per image at shape (1, 3, 640, 480)\n",
      "\n",
      "image 1/1 c:\\Users\\SBA\\repository\\image_detection\\iloveimg-converted\\IMG_1288.jpg: 640x480 (no detections), 42.3ms\n",
      "Speed: 2.0ms preprocess, 42.3ms inference, 0.0ms postprocess per image at shape (1, 3, 640, 480)\n",
      "\n",
      "image 1/1 c:\\Users\\SBA\\repository\\image_detection\\iloveimg-converted\\IMG_1289.jpg: 640x480 1 hush, 36.9ms\n",
      "Speed: 3.0ms preprocess, 36.9ms inference, 0.0ms postprocess per image at shape (1, 3, 640, 480)\n",
      "\n",
      "image 1/1 c:\\Users\\SBA\\repository\\image_detection\\iloveimg-converted\\IMG_1290.jpg: 640x480 1 snack, 43.8ms\n",
      "Speed: 3.0ms preprocess, 43.8ms inference, 0.0ms postprocess per image at shape (1, 3, 640, 480)\n",
      "\n",
      "image 1/1 c:\\Users\\SBA\\repository\\image_detection\\iloveimg-converted\\IMG_1291.jpg: 640x480 2 snacks, 34.2ms\n",
      "Speed: 2.3ms preprocess, 34.2ms inference, 0.0ms postprocess per image at shape (1, 3, 640, 480)\n",
      "\n",
      "image 1/1 c:\\Users\\SBA\\repository\\image_detection\\iloveimg-converted\\IMG_1292.jpg: 640x480 1 eclipse, 39.4ms\n",
      "Speed: 3.0ms preprocess, 39.4ms inference, 0.0ms postprocess per image at shape (1, 3, 640, 480)\n",
      "\n",
      "image 1/1 c:\\Users\\SBA\\repository\\image_detection\\iloveimg-converted\\IMG_1293.jpg: 640x480 1 snack, 37.5ms\n",
      "Speed: 2.0ms preprocess, 37.5ms inference, 0.0ms postprocess per image at shape (1, 3, 640, 480)\n",
      "\n",
      "image 1/1 c:\\Users\\SBA\\repository\\image_detection\\iloveimg-converted\\IMG_1294.jpg: 640x480 1 snack, 1 eclipse, 41.1ms\n",
      "Speed: 3.0ms preprocess, 41.1ms inference, 0.0ms postprocess per image at shape (1, 3, 640, 480)\n",
      "\n",
      "image 1/1 c:\\Users\\SBA\\repository\\image_detection\\iloveimg-converted\\IMG_1295.jpg: 640x480 1 eclipse, 33.9ms\n",
      "Speed: 3.0ms preprocess, 33.9ms inference, 0.0ms postprocess per image at shape (1, 3, 640, 480)\n",
      "\n",
      "image 1/1 c:\\Users\\SBA\\repository\\image_detection\\iloveimg-converted\\IMG_1296.jpg: 640x480 1 eclipse, 34.4ms\n",
      "Speed: 3.0ms preprocess, 34.4ms inference, 1.0ms postprocess per image at shape (1, 3, 640, 480)\n",
      "\n",
      "image 1/1 c:\\Users\\SBA\\repository\\image_detection\\iloveimg-converted\\IMG_1297.jpg: 640x480 1 hush, 2 eclipses, 37.9ms\n",
      "Speed: 2.0ms preprocess, 37.9ms inference, 1.0ms postprocess per image at shape (1, 3, 640, 480)\n",
      "\n",
      "image 1/1 c:\\Users\\SBA\\repository\\image_detection\\iloveimg-converted\\IMG_1298.jpg: 640x480 1 hush, 1 eclipse, 35.9ms\n",
      "Speed: 2.4ms preprocess, 35.9ms inference, 0.0ms postprocess per image at shape (1, 3, 640, 480)\n",
      "\n",
      "image 1/1 c:\\Users\\SBA\\repository\\image_detection\\iloveimg-converted\\IMG_1299.jpg: 640x480 1 snack, 1 hush, 36.4ms\n",
      "Speed: 2.0ms preprocess, 36.4ms inference, 1.0ms postprocess per image at shape (1, 3, 640, 480)\n",
      "\n",
      "image 1/1 c:\\Users\\SBA\\repository\\image_detection\\iloveimg-converted\\IMG_1300.jpg: 640x480 1 hush, 39.9ms\n",
      "Speed: 3.0ms preprocess, 39.9ms inference, 0.0ms postprocess per image at shape (1, 3, 640, 480)\n",
      "\n",
      "image 1/1 c:\\Users\\SBA\\repository\\image_detection\\iloveimg-converted\\IMG_1301.jpg: 640x480 1 snack, 32.9ms\n",
      "Speed: 2.0ms preprocess, 32.9ms inference, 0.0ms postprocess per image at shape (1, 3, 640, 480)\n",
      "\n",
      "image 1/1 c:\\Users\\SBA\\repository\\image_detection\\iloveimg-converted\\IMG_1302.jpg: 640x480 1 snack, 39.9ms\n",
      "Speed: 2.0ms preprocess, 39.9ms inference, 0.0ms postprocess per image at shape (1, 3, 640, 480)\n",
      "\n",
      "image 1/1 c:\\Users\\SBA\\repository\\image_detection\\iloveimg-converted\\IMG_1303.jpg: 640x480 1 snack, 37.9ms\n",
      "Speed: 2.0ms preprocess, 37.9ms inference, 0.0ms postprocess per image at shape (1, 3, 640, 480)\n"
     ]
    }
   ],
   "source": [
    "import os\n",
    "\n",
    "# 학습된 모델 가져오기\n",
    "model = YOLO(\"runs/detect/snack_11n_sb_data2/weights/best.pt\")\n",
    "\n",
    "# 테스트 파일 폴더경로\n",
    "folder_path = 'iloveimg-converted'\n",
    "\n",
    "# 폴더에 있는 모든 파일 가져오기\n",
    "files = os.listdir(folder_path)\n",
    "\n",
    "# 가져온 파일 목록을 예측하기\n",
    "for file in files:\n",
    "    filepath = 'iloveimg-converted/' + file\n",
    "    results = model(filepath) "
   ]
  },
  {
   "cell_type": "code",
   "execution_count": null,
   "metadata": {},
   "outputs": [],
   "source": [
    "# 예측\n",
    "results = model(\"test_eclipse.jpg\") "
   ]
  }
 ],
 "metadata": {
  "kernelspec": {
   "display_name": "yolov11",
   "language": "python",
   "name": "python3"
  },
  "language_info": {
   "codemirror_mode": {
    "name": "ipython",
    "version": 3
   },
   "file_extension": ".py",
   "mimetype": "text/x-python",
   "name": "python",
   "nbconvert_exporter": "python",
   "pygments_lexer": "ipython3",
   "version": "3.10.0"
  }
 },
 "nbformat": 4,
 "nbformat_minor": 2
}
